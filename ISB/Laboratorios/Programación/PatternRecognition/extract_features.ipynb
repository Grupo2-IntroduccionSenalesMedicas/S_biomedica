{
 "cells": [
  {
   "cell_type": "code",
   "execution_count": 2,
   "metadata": {},
   "outputs": [],
   "source": [
    "import numpy as np\n",
    "import matplotlib.pyplot as plt\n",
    "from scipy import signal\n",
    "import pywt\n",
    "\n",
    "def extract_features(signal):\n",
    "    mean = np.mean(signal)\n",
    "    std = np.std(signal)\n",
    "    amplitude = np.max(signal) - np.min(signal)\n",
    "    fft_signal = np.fft.fft(signal)\n",
    "    dominant_frequency = np.argmax(np.abs(fft_signal))\n",
    "    peaks, _ = signal.find_peaks(signal)\n",
    "    duration = (peaks[-1]-peaks[0])/len(signal)\n",
    "    power = np.sum(np.square(signal))/len(signal)\n",
    "    kurtosis = np.sum((signal - mean)**4)/(len(signal)*std**4)\n",
    "    coeffs = pywt.wavedec(signal, 'db4', level = 5)\n",
    "    cA5,cD5,cD4,cD3,cD2,cD1 = coeffs\n",
    "    wavelet = np.concatenate((cD1, cD2, cD3, cD4, cD5))\n",
    "    features =  {'media': mean,\n",
    "                 'desviacion_estandar': std,\n",
    "                 'amplitud': amplitude,\n",
    "                 'frecuencia_dominante': dominant_frequency,\n",
    "                 'potencia': power,\n",
    "                 'kurtosis': kurtosis,\n",
    "                 'wavelet': wavelet\n",
    "                 }\n",
    "    return features"
   ]
  }
 ],
 "metadata": {
  "kernelspec": {
   "display_name": "Python 3",
   "language": "python",
   "name": "python3"
  },
  "language_info": {
   "codemirror_mode": {
    "name": "ipython",
    "version": 3
   },
   "file_extension": ".py",
   "mimetype": "text/x-python",
   "name": "python",
   "nbconvert_exporter": "python",
   "pygments_lexer": "ipython3",
   "version": "3.11.2"
  },
  "orig_nbformat": 4
 },
 "nbformat": 4,
 "nbformat_minor": 2
}
