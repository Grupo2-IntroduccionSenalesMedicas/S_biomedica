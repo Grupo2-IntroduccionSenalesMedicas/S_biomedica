{
 "cells": [
  {
   "cell_type": "code",
   "execution_count": 27,
   "metadata": {},
   "outputs": [
    {
     "data": {
      "text/plain": [
       "{'Basal 1': array([[470., 468., 467., ..., 474., 476., 478.],\n",
       "        [479., 479., 477., ..., 503., 506., 516.],\n",
       "        [516., 509., 511., ..., 502., 507., 508.],\n",
       "        ...,\n",
       "        [508., 511., 508., ..., 512., 508., 508.],\n",
       "        [509., 508., 508., ..., 525., 521., 520.],\n",
       "        [524., 532., 537., ..., 505., 504., 505.]]),\n",
       " 'Respiracion': array([[467., 457., 450., ..., 443., 438., 435.],\n",
       "        [439., 443., 446., ..., 461., 461., 461.],\n",
       "        [459., 457., 458., ..., 496., 495., 492.],\n",
       "        ...,\n",
       "        [518., 527., 527., ..., 498., 512., 526.],\n",
       "        [534., 536., 543., ..., 512., 512., 515.],\n",
       "        [522., 523., 525., ..., 523., 519., 507.]]),\n",
       " 'Post-ejercicio': array([[522., 525., 522., ..., 518., 520., 524.],\n",
       "        [527., 529., 529., ..., 545., 548., 554.],\n",
       "        [564., 575., 580., ..., 587., 587., 585.],\n",
       "        ...,\n",
       "        [425., 434., 446., ..., 497., 493., 493.],\n",
       "        [502., 508., 512., ..., 483., 482., 477.],\n",
       "        [479., 485., 485., ..., 495., 495., 496.]]),\n",
       " 'Target': array([0, 0, 0, ..., 2, 2, 2])}"
      ]
     },
     "execution_count": 27,
     "metadata": {},
     "output_type": "execute_result"
    }
   ],
   "source": [
    "def ToDataset(lista,intervalo,delimit,Fs):\n",
    "    Ts = 1/Fs\n",
    "    i = 0\n",
    "    tgt = []\n",
    "    dataset = {}\n",
    "    for file in lista:\n",
    "        sensor = np.genfromtxt(file + \".txt\", delimiter=\"\\t\")\n",
    "        d = delimit[i]\n",
    "        sensor = sensor[:,-2]\n",
    "        sensor = sensor[d[0]:d[1]]\n",
    "        t = np.arange(0,sensor.shape[0]) * Ts\n",
    "        st_sensor = np.concatenate((t.reshape(-1,1),  sensor.reshape(-1,1)), axis=1)\n",
    "        df = pd.DataFrame(st_sensor, columns=[\"t\",file])\n",
    "        df = df.set_index(\"t\")\n",
    "        a = int(np.ceil(df.index.max()/intervalo[i]))\n",
    "        b = int(df.shape[0]/a)\n",
    "        d_obs = df[file].values.reshape(a,b)\n",
    "        target = np.repeat(i, sensor.shape[0])\n",
    "        tgt.append(target)\n",
    "        dataset.update({file:d_obs})\n",
    "        i+=1\n",
    "    tgt = np.hstack((tgt[0],tgt[1],tgt[2]))\n",
    "    dataset.update({'Target':tgt})\n",
    "\n",
    "    return dataset;\n",
    "\n",
    "import matplotlib.pyplot as plt\n",
    "import pandas as pd\n",
    "import numpy as np\n",
    "\n",
    "lista = ['Basal 1', 'Respiracion', 'Post-ejercicio']\n",
    "intervalo = [1,0.87,0.46]\n",
    "delimit = [(0,35000),(480,30930),(10000,42200)]\n",
    "Fs = 1000 #Frecuencia de muestreo del dispositivo de adquisición\n",
    "\n",
    "dataset = ToDataset(lista,intervalo,delimit,Fs)\n",
    "dataset"
   ]
  }
 ],
 "metadata": {
  "kernelspec": {
   "display_name": "Python 3",
   "language": "python",
   "name": "python3"
  },
  "language_info": {
   "codemirror_mode": {
    "name": "ipython",
    "version": 3
   },
   "file_extension": ".py",
   "mimetype": "text/x-python",
   "name": "python",
   "nbconvert_exporter": "python",
   "pygments_lexer": "ipython3",
   "version": "3.11.2"
  },
  "orig_nbformat": 4
 },
 "nbformat": 4,
 "nbformat_minor": 2
}
